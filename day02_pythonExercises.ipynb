{
 "cells": [
  {
   "cell_type": "markdown",
   "id": "694c2976",
   "metadata": {},
   "source": [
    "# Exercises"
   ]
  },
  {
   "cell_type": "markdown",
   "id": "f1de9241",
   "metadata": {},
   "source": [
    "### 1) Build a Shopping Cart <br>\n",
    "<p><b>Should have the following capabilities:</b><br><br>\n",
    "1) Takes in input <br>\n",
    "2) Stores user input into a list <br>\n",
    "3) User can add or delete items <br>\n",
    "4) User can see current shopping list <br>\n",
    "5) Loops until user 'quits' <br>\n",
    "6) Upon quiting the program, print out all items in the user's list <br>\n",
    "</p>\n",
    "\n"
   ]
  },
  {
   "cell_type": "code",
   "execution_count": 1,
   "id": "89bab420",
   "metadata": {},
   "outputs": [
    {
     "ename": "NameError",
     "evalue": "name 'Item' is not defined",
     "output_type": "error",
     "traceback": [
      "\u001b[0;31m---------------------------------------------------------------------------\u001b[0m",
      "\u001b[0;31mNameError\u001b[0m                                 Traceback (most recent call last)",
      "\u001b[0;32m/var/folders/hm/y47h5ghn7rq2wt03_rh130jm0000gn/T/ipykernel_40173/3111460675.py\u001b[0m in \u001b[0;36m<module>\u001b[0;34m\u001b[0m\n\u001b[1;32m      6\u001b[0m         \u001b[0mcart\u001b[0m\u001b[0;34m.\u001b[0m\u001b[0mqty\u001b[0m \u001b[0;34m=\u001b[0m \u001b[0mqty\u001b[0m\u001b[0;34m\u001b[0m\u001b[0;34m\u001b[0m\u001b[0m\n\u001b[1;32m      7\u001b[0m \u001b[0;34m\u001b[0m\u001b[0m\n\u001b[0;32m----> 8\u001b[0;31m \u001b[0;32mclass\u001b[0m \u001b[0mshopping_cart\u001b[0m\u001b[0;34m(\u001b[0m\u001b[0mobject\u001b[0m\u001b[0;34m)\u001b[0m\u001b[0;34m:\u001b[0m\u001b[0;34m\u001b[0m\u001b[0;34m\u001b[0m\u001b[0m\n\u001b[0m\u001b[1;32m      9\u001b[0m     \u001b[0;32mif\u001b[0m \u001b[0m__name__\u001b[0m \u001b[0;34m==\u001b[0m \u001b[0;34m'__main__'\u001b[0m\u001b[0;34m:\u001b[0m\u001b[0;34m\u001b[0m\u001b[0;34m\u001b[0m\u001b[0m\n\u001b[1;32m     10\u001b[0m         \u001b[0mitem1\u001b[0m \u001b[0;34m=\u001b[0m \u001b[0mItem\u001b[0m\u001b[0;34m(\u001b[0m\u001b[0;36m1\u001b[0m\u001b[0;34m,\u001b[0m \u001b[0;34m\"Orange\"\u001b[0m\u001b[0;34m,\u001b[0m \u001b[0;36m1.\u001b[0m\u001b[0;34m,\u001b[0m \u001b[0;36m1\u001b[0m\u001b[0;34m)\u001b[0m\u001b[0;34m\u001b[0m\u001b[0;34m\u001b[0m\u001b[0m\n",
      "\u001b[0;32m/var/folders/hm/y47h5ghn7rq2wt03_rh130jm0000gn/T/ipykernel_40173/3111460675.py\u001b[0m in \u001b[0;36mshopping_cart\u001b[0;34m()\u001b[0m\n\u001b[1;32m      8\u001b[0m \u001b[0;32mclass\u001b[0m \u001b[0mshopping_cart\u001b[0m\u001b[0;34m(\u001b[0m\u001b[0mobject\u001b[0m\u001b[0;34m)\u001b[0m\u001b[0;34m:\u001b[0m\u001b[0;34m\u001b[0m\u001b[0;34m\u001b[0m\u001b[0m\n\u001b[1;32m      9\u001b[0m     \u001b[0;32mif\u001b[0m \u001b[0m__name__\u001b[0m \u001b[0;34m==\u001b[0m \u001b[0;34m'__main__'\u001b[0m\u001b[0;34m:\u001b[0m\u001b[0;34m\u001b[0m\u001b[0;34m\u001b[0m\u001b[0m\n\u001b[0;32m---> 10\u001b[0;31m         \u001b[0mitem1\u001b[0m \u001b[0;34m=\u001b[0m \u001b[0mItem\u001b[0m\u001b[0;34m(\u001b[0m\u001b[0;36m1\u001b[0m\u001b[0;34m,\u001b[0m \u001b[0;34m\"Orange\"\u001b[0m\u001b[0;34m,\u001b[0m \u001b[0;36m1.\u001b[0m\u001b[0;34m,\u001b[0m \u001b[0;36m1\u001b[0m\u001b[0;34m)\u001b[0m\u001b[0;34m\u001b[0m\u001b[0;34m\u001b[0m\u001b[0m\n\u001b[0m\u001b[1;32m     11\u001b[0m         \u001b[0mitem2\u001b[0m \u001b[0;34m=\u001b[0m \u001b[0mItem\u001b[0m\u001b[0;34m(\u001b[0m\u001b[0;36m2\u001b[0m\u001b[0;34m,\u001b[0m \u001b[0;34m\"Eggs\"\u001b[0m\u001b[0;34m,\u001b[0m \u001b[0;36m1.\u001b[0m\u001b[0;34m,\u001b[0m \u001b[0;36m2\u001b[0m\u001b[0;34m)\u001b[0m\u001b[0;34m\u001b[0m\u001b[0;34m\u001b[0m\u001b[0m\n\u001b[1;32m     12\u001b[0m         \u001b[0mitem3\u001b[0m \u001b[0;34m=\u001b[0m \u001b[0mItem\u001b[0m\u001b[0;34m(\u001b[0m\u001b[0;36m3\u001b[0m\u001b[0;34m,\u001b[0m \u001b[0;34m\"Cereal\"\u001b[0m\u001b[0;34m,\u001b[0m \u001b[0;36m1.\u001b[0m\u001b[0;34m,\u001b[0m \u001b[0;36m5\u001b[0m\u001b[0;34m)\u001b[0m\u001b[0;34m\u001b[0m\u001b[0;34m\u001b[0m\u001b[0m\n",
      "\u001b[0;31mNameError\u001b[0m: name 'Item' is not defined"
     ]
    }
   ],
   "source": [
    "class item(object): \n",
    "    def __init__(cart, unq_id, name, price, qty):\n",
    "        cart.unq_id = unq_id\n",
    "        cart.product_name = name\n",
    "        cart.price = price\n",
    "        cart.qty = qty\n",
    "        \n",
    "class shopping_cart(object):\n",
    "    if __name__ == '__main__':\n",
    "        item1 = Item(1, \"Orange\", 1., 1)\n",
    "        item2 = Item(2, \"Eggs\", 1., 2)\n",
    "        item3 = Item(3, \"Cereal\", 1., 5)\n",
    "    \n",
    "    my_cart = Cart()\n",
    "    my_cart.update(item1)\n",
    "    my_cart.update(item2)\n",
    "    my_cart.update(item3)\n",
    "    \n",
    "    def __init__(cart):\n",
    "        cart.content = dict()\n",
    "\n",
    "    def user_cart(answer):\n",
    "        print(answer)\n",
    "        while input[0] != 'No':\n",
    "            shopping_cart = (f'Continue shopping? \"Yes/No\"')\n",
    "        if input[0] == 'additem' and input[1] in prices:\n",
    "            cart.append(input[1])\n",
    "        \n",
    "    def update(cart, item):\n",
    "        if item.unq_id not in cart.content:\n",
    "            cart.content.update({item.unq_id: item})\n",
    "            print(cart.content)\n",
    "        for k, v in cart.content.get(item.unq_id).iteritems():\n",
    "            if k == 'unq_id':\n",
    "                continue\n",
    "            elif k == 'qty':\n",
    "                total_qty = v.qty + item.qty\n",
    "                if total_qty:\n",
    "                    v.qty = total_qty\n",
    "                    continue\n",
    "                cart.remove_item(k)\n",
    "            else:\n",
    "                v[k] = item[k]\n",
    "\n",
    "    def get_total(cart):\n",
    "        print(sum([v.price * v.qty for _, v in cart.content.iteritems()]))\n",
    "\n",
    "    def get_num_items(cart):\n",
    "        print(sum([v.qty for _, v in cart.content.iteritems()]))\n",
    "\n",
    "    def remove_item(cart, key):\n",
    "        cart.content.pop(key)\n"
   ]
  },
  {
   "cell_type": "code",
   "execution_count": null,
   "id": "4dfb57ab",
   "metadata": {},
   "outputs": [],
   "source": [
    "#derek\n",
    "from IPython.display import clear_output as co\n",
    "\n",
    "# add\n",
    "# remove\n",
    "# instructions\n",
    "# application logic (how the application will flow)\n",
    "\n",
    "def add_item(a_list, item_to_add):\n",
    "    a_list.append(item_to_add)\n",
    "    \n",
    "def remove_item(a_list, item_to_remove):\n",
    "    a_list.remove(item_to_remove)\n",
    "    \n",
    "def clear_items(a_list):\n",
    "    a_list.clear()\n",
    "\n",
    "def show_items(a_list):\n",
    "    print('='*60)\n",
    "    if a_list:\n",
    "        for idx, val in enumerate(set(a_list)):\n",
    "            print(f'{idx+1}: {val} [{a_list.count(val)}]')\n",
    "    else:\n",
    "        print('You have no items in your cart.')\n",
    "    print('='*60)\n",
    "\n",
    "def show_instructions():\n",
    "    print(\"\"\"Type 'add' to add an item to the list.\n",
    "Type 'remove' to remove an item from the list.\n",
    "Type 'clear' to remove all items from your cart.\n",
    "Type 'quit' to exit program.\"\"\")\n",
    "    print('='*60)\n",
    "\n",
    "def main():\n",
    "    cart = []\n",
    "    \n",
    "    done = False\n",
    "    while not done:\n",
    "        co()\n",
    "        \n",
    "        show_items(cart)\n",
    "        show_instructions()\n",
    "        \n",
    "        decision = input('What would you like to do? ').lower()\n",
    "        \n",
    "        if decision == 'quit':\n",
    "            done = True\n",
    "        elif decision == 'add':\n",
    "            item = input('What item would you like to add? ')\n",
    "            add_item(cart, item)\n",
    "        elif decision == 'remove':\n",
    "            item = input('What item would you like to remove? ')\n",
    "            remove_item(cart, item)\n",
    "        elif decision == 'clear':\n",
    "            confirmed = False\n",
    "            while not confirmed:\n",
    "                confirmation = input('Are you sure you want to remove all items from your cart? This action cannot be undone. Y/N? ').lower()\n",
    "                if confirmation == 'y':\n",
    "                    clear_items(cart)\n",
    "                    confirmed = True\n",
    "                    input('All items have been removed from your cart. Press any key to continue.')\n",
    "                elif confirmation == 'n':\n",
    "                    confirmed = True\n",
    "\n",
    "main()"
   ]
  },
  {
   "cell_type": "markdown",
   "id": "d9a4de9c",
   "metadata": {},
   "source": [
    "### 2) Create a Module in Visual Studio Code and Import It <br>\n",
    "<p><b>Module should have the following capabilities:</b><br><br>\n",
    "1) Has a function to calculate the square footage of a room <br>\n",
    "2) Has a function to calculate the circumference of a circle <br><br>\n",
    "<b>Program in Jupyter Notebook should take in user input and use imported functions to calculate a circle's circumference or a houses square footage</b>\n",
    "</p>\n",
    "\n",
    "##### **Note: When using functions in Python, arguments are passed in by reference, NOT value."
   ]
  },
  {
   "cell_type": "code",
   "execution_count": null,
   "id": "d62bc794",
   "metadata": {},
   "outputs": [],
   "source": [
    "#derek"
   ]
  },
  {
   "cell_type": "markdown",
   "id": "a0d5ef3e",
   "metadata": {},
   "source": [
    "# Whiteboard"
   ]
  },
  {
   "cell_type": "code",
   "execution_count": null,
   "id": "d00a3e0c",
   "metadata": {},
   "outputs": [],
   "source": [
    "\"\"\" \n",
    "Given an list nums, write a function to move all 0's to the end of it while maintaining the relative order of the non-zero elements.\n",
    "Example:\n",
    "Input: [0,1,0,3,12]\n",
    "Output: [1,3,12,0,0]\n",
    "Example Input: [0,0,11,2,3,4]\n",
    "Example Output: [11,2,3,4,0,0]\n",
    "\"\"\"\n",
    "def move_zeros(li):\n",
    "    pass\n",
    "\n",
    "print(move_zeros([0,1,0,3,12]))"
   ]
  },
  {
   "cell_type": "code",
   "execution_count": null,
   "id": "59e6bc84",
   "metadata": {},
   "outputs": [],
   "source": [
    " zero = []\n",
    "    for num in li:\n",
    "        if num == 0:\n",
    "            li.remove(num)\n",
    "            #print(zero)\n",
    "            li.append(num)\n",
    "            #print(zero)\n",
    "            zero = li\n",
    "    return zero"
   ]
  }
 ],
 "metadata": {
  "kernelspec": {
   "display_name": "Python 3 (ipykernel)",
   "language": "python",
   "name": "python3"
  },
  "language_info": {
   "codemirror_mode": {
    "name": "ipython",
    "version": 3
   },
   "file_extension": ".py",
   "mimetype": "text/x-python",
   "name": "python",
   "nbconvert_exporter": "python",
   "pygments_lexer": "ipython3",
   "version": "3.9.7"
  }
 },
 "nbformat": 4,
 "nbformat_minor": 5
}
