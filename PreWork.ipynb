{
 "cells": [
  {
   "cell_type": "markdown",
   "metadata": {},
   "source": [
    "# Task 7: 5 Python Prework task"
   ]
  },
  {
   "cell_type": "markdown",
   "metadata": {},
   "source": [
    "## Question 1\n",
    "Write a function to print \"hello_USERNAME!\" USERNAME is the input of the function. The first line of the code has been defined as below. def hello_name(user_name):"
   ]
  },
  {
   "cell_type": "code",
   "execution_count": null,
   "metadata": {},
   "outputs": [],
   "source": [
    "def hello_name(user_name):\n",
    "    print(\"Type your name  \")\n",
    "    user_name = input()\n",
    "    return user_name\n",
    "\n",
    "    print(\"Hello \" + hello_name(user_name).upper() + \"!\")\n",
    "\n",
    "#hello_name = \"Hello\"\n",
    "#user_name = \"marian\" \n",
    "#print(hello_name + \" \"+ user_name)\n",
    "\n",
    "def hello_name(user_name):\n",
    "    print(\"type your name \")\n",
    "    user_name = input()\n",
    "    return user_name\n",
    "\n",
    "print(\"Hello \" + hello_name(user_name).upper() + \"!\")"
   ]
  },
  {
   "cell_type": "markdown",
   "metadata": {},
   "source": [
    "## Question 2\n",
    "Write a python function, first_odds that prints the odd numbers from 1-100 and returns nothing def first_odds():\n",
    "first_odds \n",
    "derek solution: "
   ]
  },
  {
   "cell_type": "code",
   "execution_count": null,
   "metadata": {},
   "outputs": [],
   "source": [
    "def one_to_one_hundred():\n",
    "    star = 0\n",
    "    for num in range(200):#loop thru num 1-200\n",
    "        if num %2 != 0: #if the num is odd/not evenly div\n",
    "            star += 1\n",
    "            print(f'{start}: {num}') #show the iteration num and the found odd num\n",
    "   \n",
    "one_to_one_hundred()\n",
    "def odd_numbers():\n",
    "    for i in range(1,101,2):\n",
    "        print(i)\n",
    "def odd_numbers2():\n",
    "    numbers = list(range(1,101))\n",
    "    for number in numbers:\n",
    "        if number %2 != 0:\n",
    "            print(number)\n",
    "    #odd_numbers()\n",
    "print(odd_numbers())"
   ]
  },
  {
   "cell_type": "markdown",
   "metadata": {},
   "source": [
    "## Question 3\n",
    "Please write a Python function, max_num_in_list to return the max number of a given list. The first line of the code has been defined as below. \n",
    "def max_num_in_list(a_list):"
   ]
  },
  {
   "cell_type": "code",
   "execution_count": null,
   "metadata": {},
   "outputs": [],
   "source": [
    "#derek solution:\n",
    "my_list = [12, 34, 57,1345, 82, 98, 576, 34,]\n",
    "\n",
    "#max(my_list)\n",
    "def bubble_sort(a_list):\n",
    "    list_copy = a_list[:]\n",
    "    \n",
    "    for i in range(len(a_list)-1): \n",
    "        for j in range(len(a_list) -i - 1):\n",
    "            if a_list[j]> a_list[j+1]:\n",
    "                a_list[j], a_list[j+1] = a_list[j+1], a_list[j]\n",
    "    return list_copy\n",
    "\n",
    "bubble_sort(my_list)#bubbles sorting values inside list"
   ]
  },
  {
   "cell_type": "code",
   "execution_count": null,
   "metadata": {},
   "outputs": [],
   "source": [
    "#derek solution mk2:\n",
    "my_list = [12, 34, 57,1345, 82, 98, 576, 34,]\n",
    "\n",
    "def max_num_in_list(a_list):\n",
    "    return bubble_sort(a_list)[-1] #using 'max' function = return max(bubble_sort(a_list))\n",
    "\n",
    "max_num_in_list(my_list)\n",
    "#lucas solution:\n",
    "my_list = [12, 34, 57,1345, 82, 98, 576, 34,]\n",
    "\n",
    "max(my_list)\n",
    "def find_max(a_list):\n",
    "    current_max = a_list[0]\n",
    "    \n",
    "    for item in a_list: #'linear time'\n",
    "        if item > current_max:\n",
    "            current_max = item\n",
    "    return current_max\n",
    "\n",
    "print (find_max(my_list))\n",
    "            \n",
    "a_list = [2,3,5,8,9]\n",
    "\n",
    "def max_num_in_list(a_list):\n",
    "    max_num = max(a_list)\n",
    "    return max_num\n",
    "current_max = a_list[0]\n",
    "\n",
    "print(max_num_in_list(a_list))\n",
    "\n",
    "#max_num_in_list = [0,11]\n",
    "#test = max_num_in_list([2,3,5,8,9])"
   ]
  },
  {
   "cell_type": "markdown",
   "metadata": {},
   "source": [
    "## Question 4\n",
    "Write a function to return if the given year is a leap year. A leap year is divisible by 4, but not divisible by 100, unless it is also divisible by 400. The return should be boolean Type (true/false). def is_leap_year(a_year): -->\n",
    "derek solution:"
   ]
  },
  {
   "cell_type": "code",
   "execution_count": null,
   "metadata": {},
   "outputs": [],
   "source": [
    "def get_leap_years():\n",
    "    current iteration = 1\n",
    "    year = 2000\n",
    "    \n",
    "    while year < 3001\n",
    "        if year %4 == 0 and year %100 !== 0 or year %400 == 0\n",
    "            print(f'{current_iteration}: {year}')\n",
    "            current_iteration += 1\n",
    "        year += 1\n",
    "\n",
    "get_leap_years()\n",
    "def is_leap_year(a_year):\n",
    "    if a_year %4 == 0 and a_year %100 !=0:\n",
    "        print(f'{a_year}is a leap year')\n",
    "    elif a_year %400 == 0:\n",
    "        return True\n",
    "    else:\n",
    "        return False\n",
    "print(is_leap_year(2000))\n",
    "def is_leap(a_year):\n",
    "    if (a_year %4 == 0 and a_year %100 !=0 or a_year %400 == 0):\n",
    "        return True\n",
    "    else:\n",
    "        return False\n",
    "print(is_leap_year(2000))"
   ]
  },
  {
   "cell_type": "markdown",
   "metadata": {},
   "source": [
    "## Question 5\n",
    "Write a function to check to see if all numbers in the list are consecutive numbers. For example, [2,3,4,5,6,7] are consecutive numbers, but [1,2,4,5] are not consecutive numbers. The return should be Boolean T/F Type. \n",
    "def is_consecutive(a_list): -->\n",
    "derek solution:"
   ]
  },
  {
   "cell_type": "code",
   "execution_count": null,
   "metadata": {},
   "outputs": [],
   "source": [
    "def is_consecutive(a_list):\n",
    "    for i in range(len(a_list) - 1):\n",
    "        if a_list[i] +1 != a_list[i+1]:\n",
    "            return False\n",
    "        else:\n",
    "            return True\n",
    "\n",
    "is_consecutive(my_list)\n",
    "a_list = [8, 9, 4, 1, 2, 3, 4, 4, 8, 9, 1, 2, 3, 0, 1, 5, 6, 1]\n",
    "a_list = [4,5,6,7]\n",
    "\n",
    "def is_consecutive(a_list):\n",
    "    total = 0\n",
    "    min = float('+inf')\n",
    "    max = float('-inf')\n",
    "    seen = set()\n",
    "\n",
    "    for n in a_list:\n",
    "        if n in seen:\n",
    "            return False\n",
    "        seen.add(n)\n",
    "        if n < min:\n",
    "            min = n\n",
    "        if n > max:\n",
    "            max = n\n",
    "        total += n\n",
    "    if 2 * total != max * (max + 1) - min * (min - 1):\n",
    "        return False\n",
    "    return True\n",
    "print(is_consecutive(a_list))"
   ]
  }
 ],
 "metadata": {
  "language_info": {
   "name": "python"
  },
  "orig_nbformat": 4
 },
 "nbformat": 4,
 "nbformat_minor": 2
}
