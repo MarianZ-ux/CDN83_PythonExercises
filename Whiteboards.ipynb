{
 "cells": [
  {
   "cell_type": "code",
   "execution_count": null,
   "metadata": {},
   "outputs": [],
   "source": [
    "# Write a Python program to add the digits of a positive integer \n",
    "# repeatedly until the result has a single digit.\n",
    "# The input number will be greater than 0\n",
    "\n",
    "# EX\n",
    "# Input:\n",
    "n1=48\n",
    "# 4+8=12\n",
    "# 1+2=3\n",
    "# Output:\n",
    "# 3\n",
    "\n",
    "# Input\n",
    "n2=59\n",
    "# Output\n",
    "# 5\n",
    "\n",
    "def add_digits(n):\n",
    "    pass\n",
    "\n",
    "print(add_digits(n1))"
   ]
  },
  {
   "cell_type": "code",
   "execution_count": null,
   "metadata": {},
   "outputs": [],
   "source": [
    "# def add_digits(n):\n",
    "#     while True:\n",
    "#         total = 0\n",
    "#         for num in str(n):\n",
    "#             total += int(num)\n",
    "#         if total <= 9:\n",
    "#             return total\n",
    "#         else:\n",
    "#             n = total\n",
    "def add_digits(n):\n",
    "    total = 0\n",
    "    for num in str(n):\n",
    "        total += int(num)\n",
    "    if total <= 9:\n",
    "        return total\n",
    "    else:\n",
    "        return add_digits(total)"
   ]
  },
  {
   "cell_type": "code",
   "execution_count": null,
   "metadata": {},
   "outputs": [],
   "source": [
    "def add_digits(n):\n",
    "    while len(str(n)) > 1:\n",
    "        n = sum([int(i) for i in str(n)])\n",
    "    return n\n",
    "\n",
    "print(add_digits(n1))\n",
    "print(add_digits(n2))"
   ]
  },
  {
   "cell_type": "markdown",
   "metadata": {},
   "source": [
    "unk below"
   ]
  },
  {
   "cell_type": "code",
   "execution_count": 1,
   "metadata": {},
   "outputs": [
    {
     "ename": "SyntaxError",
     "evalue": "Missing parentheses in call to 'print'. Did you mean print('new player object')? (838207267.py, line 3)",
     "output_type": "error",
     "traceback": [
      "\u001b[0;36m  Input \u001b[0;32mIn [1]\u001b[0;36m\u001b[0m\n\u001b[0;31m    print 'new player object'\u001b[0m\n\u001b[0m          ^\u001b[0m\n\u001b[0;31mSyntaxError\u001b[0m\u001b[0;31m:\u001b[0m Missing parentheses in call to 'print'. Did you mean print('new player object')?\n"
     ]
    }
   ],
   "source": [
    "class Player(object):\n",
    "    def __init__(self):\n",
    "        print 'new player object'\n",
    "\n",
    "Player() # __init__() called automatically and prints 'new player object'"
   ]
  },
  {
   "cell_type": "markdown",
   "metadata": {},
   "source": []
  },
  {
   "cell_type": "code",
   "execution_count": null,
   "metadata": {},
   "outputs": [],
   "source": [
    "# derek Creating a decorator\n",
    "def wrap(length):\n",
    "    def qwerty(func):\n",
    "        print(func)\n",
    "        def wrapper(*args, **kwargs):\n",
    "            print('=' * length)\n",
    "            func(*args, **kwargs)\n",
    "            print('=' * length)\n",
    "        return wrapper\n",
    "    return qwerty\n",
    "\n",
    "# def decorator()"
   ]
  },
  {
   "cell_type": "code",
   "execution_count": null,
   "metadata": {},
   "outputs": [],
   "source": []
  },
  {
   "cell_type": "markdown",
   "metadata": {},
   "source": [
    "a;lbke;oubjv\n"
   ]
  },
  {
   "cell_type": "markdown",
   "id": "36f136f0",
   "metadata": {},
   "source": [
    "# Whiteboard"
   ]
  },
  {
   "cell_type": "code",
   "execution_count": null,
   "metadata": {},
   "outputs": [],
   "source": [
    "# Find the longest word\n",
    "# Create a function that given a string as a parameter of space-separated words\n",
    "# find and return the word with the most characters\n",
    "# Input\n",
    "a1 = \"Lorem ipsum dolor sit amet, consectetur adipiscing elit.\"\n",
    "# Output\n",
    "# consectetur\n",
    "def longest_word(a_str):\n",
    "    pass\n",
    "\n",
    "print(longest_word(a1))"
   ]
  },
  {
   "cell_type": "code",
   "execution_count": null,
   "metadata": {},
   "outputs": [],
   "source": [
    "#me\n",
    "def find_longest_word(word_list):  \n",
    "    longest_word =  max(word_list, key=len)\n",
    "    return longest_word"
   ]
  },
  {
   "cell_type": "code",
   "execution_count": null,
   "metadata": {},
   "outputs": [],
   "source": [
    "#jesse\n",
    "def longest_word(a_str):\n",
    "    x = a_str.split()\n",
    "    x.sort(key = len)\n",
    "    return x[- 1]\n",
    "print(longest_word(a1))"
   ]
  },
  {
   "cell_type": "code",
   "execution_count": null,
   "metadata": {},
   "outputs": [],
   "source": [
    "#lucas\n",
    "a1 = \"Lorem ipsum dolor sit amet, consectetur adipiscing elit.\"\n",
    "# Output\n",
    "# consectetur\n",
    "def longest_word(a_str):\n",
    "    l_word = \"\"\n",
    "    for word in a_str.split():\n",
    "        if len(word) > len(l_word):\n",
    "            l_word = word\n",
    "    return l_word\n",
    "\n",
    "print(longest_word(a1))"
   ]
  },
  {
   "cell_type": "code",
   "execution_count": null,
   "metadata": {},
   "outputs": [],
   "source": [
    "# Given an array of integers nums and an integer target, \n",
    "# return indices of the two numbers such that they add up to target.\n",
    "\n",
    "# You may assume that each input would have exactly one solution, \n",
    "# and you may not use the same element twice.\n",
    "\n",
    "# You can return the answer in any order.\n",
    "\n",
    "# Input: \n",
    "nums = [2,7,11,15]\n",
    "target = 9\n",
    "# Output: [0,1]\n",
    "# Output: Because nums[0] + nums[1] == 9, we return [0, 1].\n",
    "\n",
    "# Input: \n",
    "nums1 = [3,2,4]\n",
    "target1 = 6\n",
    "# Output: \n",
    "# [1,2]\n",
    "\n",
    "#Input: \n",
    "nums2 = [3,3]\n",
    "target2 = 6\n",
    "# Output: \n",
    "# [0,1]\n",
    "\n",
    "def two_sum(nums, target):\n",
    "    pass\n",
    "    \n",
    "print(two_sum(nums,target))"
   ]
  },
  {
   "cell_type": "code",
   "execution_count": null,
   "metadata": {},
   "outputs": [],
   "source": [
    "#isidro\n",
    "\n",
    "def two_sum(nums, target):\n",
    "    for i, j in enumerate(nums):\n",
    "        if target - j in nums and nums.index(target - j) != i:\n",
    "            return [i, nums.index(target - j)]"
   ]
  },
  {
   "cell_type": "code",
   "execution_count": null,
   "metadata": {},
   "outputs": [],
   "source": [
    "def two_sum(nums, target):\n",
    "    d={}\n",
    "    for i, num in enumerate(nums):\n",
    "        if target - num in d:\n",
    "            return [d[target-num],i]\n",
    "        d[num]=i\n",
    "    return -1\n",
    "\n",
    "    \n",
    "print(two_sum(nums2,target2))\n",
    "\n",
    "def two_sum_loops(nums, target):\n",
    "    for i, num in enumerate(nums):\n",
    "        for j, num2 in enumerate(nums[i + 1:]):\n",
    "            if target - num == num2:\n",
    "                return [i,j+i+1]\n",
    "    \n",
    "    return -1\n",
    "\n",
    "print(two_sum_loops(nums2,target2)"
   ]
  },
  {
   "cell_type": "code",
   "execution_count": null,
   "metadata": {},
   "outputs": [],
   "source": []
  },
  {
   "cell_type": "code",
   "execution_count": null,
   "metadata": {},
   "outputs": [],
   "source": []
  },
  {
   "cell_type": "code",
   "execution_count": null,
   "metadata": {},
   "outputs": [],
   "source": []
  },
  {
   "cell_type": "code",
   "execution_count": null,
   "metadata": {},
   "outputs": [],
   "source": [
    "# Find Even numbers\n",
    "# Create a function that, given a list as a parameter, finds the even numbers \n",
    "# inside the list. The function should then return a list.\n",
    "# Bonus: Use a list comprehension to find your solution\n",
    "# Example:\n",
    "# Input: [2, 7, 10, 11, 12]\n",
    "# Output: [2, 10, 12]\n",
    "\n",
    "\n",
    "def even_nums(a_list):\n",
    "    return [num for num in a_list if num % 2 == 0]\n",
    "\n",
    "even_nums([2, 7, 10, 11, 12])\n",
    "\n",
    "def even_nums(nums):\n",
    "    # create an empty list for our even numbers\n",
    "    list_of_evens = []\n",
    "    # loop through the list we were given\n",
    "    for n in nums:\n",
    "        # check each item to see if it is even\n",
    "        if n % 2 == 0:\n",
    "            # if the item is even, add it to our even numbers list\n",
    "            list_of_evens.append(n)\n",
    "            # if the item is odd, do nothing\n",
    "            \n",
    "    # Once we have finished looping through the given list, return the even numbers list\n",
    "    return list_of_evens\n",
    "\n",
    "\n",
    "even_nums([2, 7, 10, 11, 12])"
   ]
  },
  {
   "cell_type": "code",
   "execution_count": null,
   "id": "9d9d3f29",
   "metadata": {},
   "outputs": [],
   "source": [
    "\"\"\" \n",
    "Given a number (n) and an array of numbers (num_list) as input to a function, \n",
    "return True if the number is greater than the middle number of the array. \n",
    "Return False if the number is less than the middle number of the array.\n",
    "Example Input: n = 6, array = [3,5,8,10]\n",
    "Example Output: True\n",
    "Example Input: n = 105, array = [10,30,44,22,100]\n",
    "Example Output: True\n",
    "\"\"\"\n",
    "num_list = int \n",
    "number = n\n",
    "i= middle_num\n",
    "\n",
    "def compare_num(array, n):\n",
    "    while true:\n",
    "        if n > [i]:\n",
    "            return 'True'\n",
    "\n",
    "        if n < [i] :\n",
    "            return 'False'\n",
    "    pass\n",
    "\n",
    "print(compare_num([10, 30, 44, 55, 22, 100], 45))"
   ]
  },
  {
   "cell_type": "code",
   "execution_count": null,
   "id": "379b5c2b",
   "metadata": {},
   "outputs": [],
   "source": [
    "#student Muhammad\n",
    "def compare_num(array, n):\n",
    "    array_len = len(array)\n",
    "    len_div = (array_len / 2)  - 1\n",
    "    if ceil(len_div) > floor(len_div):\n",
    "        if n > array[ceil(len_div)]:\n",
    "            return 'True'\n",
    "        else:\n",
    "            return 'False'\n",
    "    elif ceil(len_div) == floor(len_div):\n",
    "        if n > array[ceil(len_div)]:\n",
    "            return 'True'\n",
    "        else:\n",
    "            return 'False'\n",
    "print(compare_num([10, 30, 44, 105, 22, 100, 123], 45))  # False\n",
    "print(compare_num([3, 5, 8, 10], 6)) # True\n",
    "print(compare_num([10, 30, 44, 22, 100], 105))  # True"
   ]
  },
  {
   "cell_type": "code",
   "execution_count": null,
   "id": "10aefbb0",
   "metadata": {},
   "outputs": [],
   "source": [
    "#Jared\n",
    "def compare_num(array, n):    \n",
    "    quantity = len(array)\n",
    "    if quantity % 2 != 0:\n",
    "        middle_odd = int(((quantity / 2) - .5))\n",
    "        if n > (array[middle_odd]):\n",
    "            return True\n",
    "    elif quantity % 2 == 0:\n",
    "        middle_even = int(((quantity / 2) - 1))\n",
    "        if n > (array[middle_even]):\n",
    "            return True\n",
    "    return False\n",
    "print(compare_num([100, -33, 76, 88, 1], 3))"
   ]
  },
  {
   "cell_type": "code",
   "execution_count": null,
   "id": "b0b7d142",
   "metadata": {},
   "outputs": [],
   "source": [
    "###Import solution HAMILTON\n",
    "import statistics\n",
    "\n",
    "def compare_num(array, n):\n",
    "    med = statistics.median(array)\n",
    "    if n > med:\n",
    "        return True\n",
    "    else:\n",
    "        return False\n",
    "print(compare_num([10, 30, 44, 55, 22, 100], 45))\n",
    "\n",
    "###Algorithmic solution\n",
    "def compare_num(array, n):\n",
    "    array.sort() ###permanently sorts our list into a lowest to highest order\n",
    "    new_ind = int((len(array) / 2) - 1) ###this line creates the left-most middle indice in the case of an evenly numbered list, and still functions properly with an odd numbered list\n",
    "    med = (array[new_ind] + array[new_ind + 1]) / 2 ###this line grabs the two middle indices, sums them, and then divides for the median\n",
    "    if med > n:\n",
    "        return True\n",
    "    else:\n",
    "        return False\n",
    "print(compare_num([3,5,8,10], 6))\n",
    "\"\"\"\"\"\"\n",
    "###Import solution\n",
    "import statistics\n",
    "\n",
    "def compare_num(array, n):\n",
    "    med = statistics.median(array)\n",
    "    if n > med:\n",
    "        return True\n",
    "    else:\n",
    "        return False\n",
    "print(compare_num([10, 30, 44, 55, 22, 100], 45))\n",
    "\n",
    "###Algorithmic solution\n",
    "def compare_num(array, n):\n",
    "    array.sort() ###permanently sorts our list into a lowest to highest order\n",
    "    new_ind = int((len(array) / 2) - 1) ###this line creates the left-most middle indice in the case of an evenly numbered list, and still functions properly with an odd numbered list\n",
    "    med = (array[new_ind] + array[new_ind + 1]) / 2 ###this line grabs the two middle indices, sums them, and then divides for the median\n",
    "    if med > n:\n",
    "        return True\n",
    "    else:\n",
    "        return False\n",
    "print(compare_num([3,5,8,10], 6))"
   ]
  },
  {
   "cell_type": "code",
   "execution_count": null,
   "id": "a7f26d15",
   "metadata": {},
   "outputs": [],
   "source": [
    "\"\"\" \n",
    "Given an list nums, write a function to move all 0's to the end of it while maintaining the relative order of the non-zero elements.\n",
    "Example:\n",
    "Input: [0,1,0,3,12]\n",
    "Output: [1,3,12,0,0]\n",
    "Example Input: [0,0,11,2,3,4]\n",
    "Example Output: [11,2,3,4,0,0]\n",
    "\"\"\"\n",
    "def move_zeros(li):\n",
    "    pass\n",
    "\n",
    "print(move_zeros([0,1,0,3,12]))"
   ]
  },
  {
   "cell_type": "code",
   "execution_count": null,
   "id": "1c931ca2",
   "metadata": {},
   "outputs": [],
   "source": [
    "#student \n",
    "zero = []\n",
    "    for num in li:\n",
    "        if num == 0:\n",
    "            li.remove(num)\n",
    "            #print(zero)\n",
    "            li.append(num)\n",
    "            #print(zero)\n",
    "            zero = li\n",
    "    return zero"
   ]
  },
  {
   "cell_type": "code",
   "execution_count": null,
   "id": "850c56cd",
   "metadata": {},
   "outputs": [],
   "source": [
    "#derek solution:\n",
    "def fizzBuzz(n):\n",
    "    if n % 3 == 0 and n % 5 == 0:\n",
    "        print('FizzBuzz')\n",
    "    elif n % 5 == 0:\n",
    "        print('Buzz')\n",
    "    elif n % 3 == 0:\n",
    "        print('Fizz')\n",
    "    else:\n",
    "        print(n)"
   ]
  },
  {
   "cell_type": "code",
   "execution_count": null,
   "id": "e375699f",
   "metadata": {},
   "outputs": [],
   "source": [
    "def fizz_buzz(n):\n",
    "    for i in range(1, n+1):\n",
    "        if i % 3 == 0 and i % 5 == 0:\n",
    "            print('FizzBuzz')\n",
    "        elif i % 3 == 0:\n",
    "            print('Fizz')\n",
    "        elif i % 5 == 0:\n",
    "            print('Buzz')\n",
    "        else:\n",
    "            print(i)\n",
    "            \n",
    "fizz_buzz(15)"
   ]
  },
  {
   "cell_type": "code",
   "execution_count": null,
   "id": "baf1a970",
   "metadata": {},
   "outputs": [],
   "source": [
    "def add_numbers(x,y):\n",
    "    return x+y"
   ]
  }
 ],
 "metadata": {
  "kernelspec": {
   "display_name": "Python 3 (ipykernel)",
   "language": "python",
   "name": "python3"
  },
  "language_info": {
   "codemirror_mode": {
    "name": "ipython",
    "version": 3
   },
   "file_extension": ".py",
   "mimetype": "text/x-python",
   "name": "python",
   "nbconvert_exporter": "python",
   "pygments_lexer": "ipython3",
   "version": "3.9.7"
  }
 },
 "nbformat": 4,
 "nbformat_minor": 4
}
