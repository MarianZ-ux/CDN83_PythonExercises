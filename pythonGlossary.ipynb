{
 "cells": [
  {
   "cell_type": "markdown",
   "metadata": {},
   "source": [
    "## Glossary"
   ]
  },
  {
   "cell_type": "markdown",
   "metadata": {},
   "source": [
    "\n",
    "<b>variable</b> = value stored at a memory address. Left of equal sign\n",
    "<br>\n",
    "<b>memory address</b> = data block where values are stored in\n",
    "value = right of equal sign. can be an integer, object, string, etc.\n",
    "<br>\n",
    "<b>function</b> = actions that if you pass some pre-defined data type into them, they will give you back some output\n",
    "<br>\n",
    "<b>class</b> = \n",
    "<br>\n",
    "<b>argument</b> = the real piece of data that you're passing into a function/method/class\n",
    "<br>\n",
    "<b>parameter/placeholder/temporary variable</b> = the placeholder data\n",
    "<br>\n",
    "<b>statement</b> = Any Python operation. Usually starts with 'while', 'for', 'if'\n",
    "<br>\n",
    "<b>keyword</b> = word that gives Python a set of instructions\n",
    "<br>\n",
    "<b>index</b> =  number representation of a real value \n",
    "<br>\n",
    "<b>iterable</b> = anything that you can loop/iterate over.\n",
    "<br>\n",
    "<b>iteration</b> =  The next value in an iterable\n",
    "<br>\n",
    "<b>mutable</b> = can change\n",
    "<br>\n",
    "<b>immutable</b> = cannot change\n",
    "<br>\n",
    "<b>method</b> = a function that ONLY acts on the object it belongs to\n",
    "<br>\n",
    "<b>standardize</b> = data concept to make your data uniform, mostly with intention to perform some complex action on data"
   ]
  },
  {
   "cell_type": "markdown",
   "metadata": {},
   "source": [
    "node == key\n",
    "Node is the item in the list that stores the current items value and place in the list"
   ]
  },
  {
   "cell_type": "markdown",
   "metadata": {},
   "source": [
    "DRY = Do Not. Repeat. Yourself if anyone missed that reference"
   ]
  },
  {
   "cell_type": "markdown",
   "metadata": {},
   "source": []
  }
 ],
 "metadata": {
  "language_info": {
   "name": "python"
  },
  "orig_nbformat": 4
 },
 "nbformat": 4,
 "nbformat_minor": 2
}
